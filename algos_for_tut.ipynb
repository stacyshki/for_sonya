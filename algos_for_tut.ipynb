{
 "cells": [
  {
   "cell_type": "markdown",
   "metadata": {},
   "source": [
    "<h1>Example of computer algorithms` exam<h1>"
   ]
  },
  {
   "cell_type": "markdown",
   "metadata": {},
   "source": [
    "`Time complexity checker below`"
   ]
  },
  {
   "cell_type": "code",
   "execution_count": 62,
   "metadata": {},
   "outputs": [],
   "source": [
    "from timeit import timeit\n",
    "\n",
    "def time_decorator(func : object) -> int:\n",
    "  start = timeit()\n",
    "  \n",
    "  def wrapper(*args, **kwargs):\n",
    "    result = func(*args, **kwargs)\n",
    "    return result\n",
    "  \n",
    "  end = timeit()\n",
    "  print(f\"The function {func} was executed within {start-end} sec.\")\n",
    "  return wrapper\n"
   ]
  },
  {
   "cell_type": "code",
   "execution_count": 65,
   "metadata": {},
   "outputs": [],
   "source": [
    "from typing import List"
   ]
  },
  {
   "cell_type": "markdown",
   "metadata": {},
   "source": [
    "<h3>Task 1<h3>\n",
    "<h4>Write a fibo function<h4>"
   ]
  },
  {
   "cell_type": "code",
   "execution_count": null,
   "metadata": {},
   "outputs": [
    {
     "name": "stdout",
     "output_type": "stream",
     "text": [
      "The function <function fibonacci_rec at 0x0000027ABBCB9300> was executed within 0.00038410001434385777 sec.\n",
      "The function <function fibonacci_rec_memo at 0x0000027ABBCB96C0> was executed within 0.0005094000371173024 sec.\n",
      "The function <function fibonacci_iter at 0x0000027ABBCBB2E0> was executed within 0.00013350002700462937 sec.\n"
     ]
    }
   ],
   "source": [
    "@time_decorator\n",
    "def fibonacci_rec(n : int) -> int: # O(2^n)\n",
    "  if n < 2:\n",
    "    return 1\n",
    "  \n",
    "  return fibonacci_rec(n - 1) + fibonacci_rec(n - 2)\n",
    "\n",
    "\n",
    "@time_decorator\n",
    "def fibonacci_rec_memo(n : int, memo = {0 : 1, 1 : 1}) -> int: # O(n)\n",
    "  if n in memo.keys():\n",
    "    return memo[n]\n",
    "  \n",
    "  memo[n] = fibonacci_rec_memo(n - 1) + fibonacci_rec_memo(n - 2)\n",
    "  return memo[n]\n",
    "\n",
    "\n",
    "@time_decorator\n",
    "def fibonacci_iter(n : int) -> int: # O(n)\n",
    "  fibonacci_nums = {0 : 1, 1 : 1}\n",
    "  \n",
    "  if n < 0:\n",
    "    return n\n",
    "  \n",
    "  for i in range(2, n + 1):\n",
    "    fibonacci_nums[i] = fibonacci_nums[i - 1] + fibonacci_nums[i - 2]\n",
    "  \n",
    "  return fibonacci_nums[n]\n",
    "\n",
    "\n",
    "assert fibonacci_rec_memo(8) == fibonacci_rec(8)\n",
    "assert fibonacci_rec(12) == fibonacci_iter(12)\n",
    "assert fibonacci_rec_memo(20) == fibonacci_iter(20)"
   ]
  },
  {
   "cell_type": "markdown",
   "metadata": {},
   "source": [
    "<h3>Task 2<h3>\n",
    "<h4>Write a function, that finds distance between two points on a plane, then a function, that finds the closest points<h4>"
   ]
  },
  {
   "cell_type": "markdown",
   "metadata": {},
   "source": [
    "`Remark: input is in the List[Tuple] form`"
   ]
  },
  {
   "cell_type": "code",
   "execution_count": 70,
   "metadata": {},
   "outputs": [],
   "source": [
    "def distance(coordinates : List[tuple]) -> int: # O(1)\n",
    "  return ((coordinates[0][0] - coordinates[1][0]) ** 2 \n",
    "          + (coordinates[0][1] - coordinates[1][1]) ** 2) ** 0.5\n",
    "\n",
    "\n",
    "def closest_points(points : List[tuple]) -> List[tuple]: # O(n^2)\n",
    "  if len(points) < 2:\n",
    "    raise Exception('Too little points')\n",
    "  \n",
    "  min_distance = float('inf')\n",
    "  closest_pair = list()\n",
    "  \n",
    "  for i in range(len(points)):\n",
    "    for j in range(i + 1, len(points)):\n",
    "      d = distance([points[i], points[j]])\n",
    "      \n",
    "      if d < min_distance:\n",
    "        min_distance = d\n",
    "        closest_pair = [points[i], points[j]]\n",
    "  \n",
    "  return closest_pair\n",
    "\n",
    "\n",
    "points = [(0, 1), (1, 3), (2, 5), (2, 4), (6, 8)]\n",
    "\n",
    "assert closest_points(points) == [(2, 5), (2, 4)]\n",
    "\n",
    "try:\n",
    "  closest_points([])\n",
    "except Exception:\n",
    "  pass\n"
   ]
  },
  {
   "cell_type": "markdown",
   "metadata": {},
   "source": [
    "<h3>Task 3<h3>\n",
    "<h4>Write a binary tree and complete some DFS/BFS functions related to them<h4>"
   ]
  },
  {
   "cell_type": "code",
   "execution_count": 80,
   "metadata": {},
   "outputs": [
    {
     "name": "stdout",
     "output_type": "stream",
     "text": [
      "An example of a binary tree, released with class implementation\n"
     ]
    }
   ],
   "source": [
    "class Node:\n",
    "  def __init__(self, value : int):\n",
    "    self.value = value\n",
    "    self.left = None\n",
    "    self.right = None\n",
    "  \n",
    "  def __str__(self):\n",
    "    return \"An example of a binary tree, released with class implementation\"\n",
    "\n",
    "\n",
    "root = Node(1)\n",
    "print(root)"
   ]
  },
  {
   "cell_type": "markdown",
   "metadata": {},
   "source": [
    "`Check if a tree is balanced`"
   ]
  },
  {
   "cell_type": "code",
   "execution_count": null,
   "metadata": {},
   "outputs": [],
   "source": [
    "def balanced(root : object) -> bool:\n",
    "  if root is None:\n",
    "    return True\n",
    "  \n",
    "  stack = []\n",
    "  node_depth = {}\n",
    "  current = root\n",
    "  last_visited = None\n",
    "  \n",
    "  while stack or current:\n",
    "    if current:\n",
    "      stack.append(current)\n",
    "      current = current.left\n",
    "    else:\n",
    "      peek_node = stack[-1]\n",
    "      if peek_node.right and last_visited != peek_node.right:\n",
    "        current = peek_node.right\n",
    "      else:\n",
    "        left_height = node_depth.get(peek_node.left, -1)\n",
    "        right_height = node_depth.get(peek_node.right, -1)\n",
    "        if abs(left_height - right_height) > 1:\n",
    "          return False\n",
    "        node_depth[peek_node] = max(left_height, right_height) + 1\n",
    "        last_visited = stack.pop()\n",
    "  \n",
    "  return True\n",
    "\n",
    "\n",
    "root = Node(1)\n",
    "root.left = Node(2)\n",
    "root.right = Node(3)\n",
    "root.left.left = Node(4)\n",
    "root.left.right = Node(5)\n",
    "\n",
    "assert balanced(root)\n",
    "\n",
    "root_unbalanced = Node(1)\n",
    "root_unbalanced.left = Node(2)\n",
    "root_unbalanced.right = Node(3)\n",
    "root_unbalanced.left.left = Node(4)\n",
    "root_unbalanced.left.left.left = Node(5)\n",
    "\n",
    "assert not balanced(root_unbalanced)"
   ]
  },
  {
   "cell_type": "markdown",
   "metadata": {},
   "source": [
    "`Write DFS traversals`"
   ]
  },
  {
   "cell_type": "code",
   "execution_count": 87,
   "metadata": {},
   "outputs": [
    {
     "name": "stdout",
     "output_type": "stream",
     "text": [
      "1 2 3 4 5 "
     ]
    }
   ],
   "source": [
    "def in_order_traversal(root : object) -> None:\n",
    "    if root is not None:\n",
    "        in_order_traversal(root.left)\n",
    "        print(root.value, end=' ')\n",
    "        in_order_traversal(root.right)\n",
    "\n",
    "\n",
    "def pre_order_traversal(root : object) -> None:\n",
    "    if root is not None:\n",
    "        print(root.value, end=' ')\n",
    "        pre_order_traversal(root.left)\n",
    "        pre_order_traversal(root.right)\n",
    "\n",
    "\n",
    "def post_order_traversal(root : object) -> None:\n",
    "    if root is not None:\n",
    "        post_order_traversal(root.left)\n",
    "        post_order_traversal(root.right)\n",
    "        print(root.value, end=' ')\n",
    "\n",
    "\n",
    "root = Node(1)\n",
    "root.left = Node(2)\n",
    "root.right = Node(5)\n",
    "root.left.left = Node(3)\n",
    "root.left.right = Node(4)\n",
    "\n",
    "pre_order_traversal(root)"
   ]
  },
  {
   "cell_type": "markdown",
   "metadata": {},
   "source": [
    "`Check if a tree has a cycle`"
   ]
  },
  {
   "cell_type": "code",
   "execution_count": 89,
   "metadata": {},
   "outputs": [],
   "source": [
    "def has_cycle(node : object, visited = None, parent = None) -> bool:\n",
    "    if visited is None:\n",
    "        visited = set()\n",
    "    \n",
    "    if node is None:\n",
    "        return False\n",
    "    \n",
    "    if node in visited:\n",
    "        return True\n",
    "    \n",
    "    visited.add(node)\n",
    "    \n",
    "    if node.left is not parent: \n",
    "        if has_cycle(node.left, visited, node):\n",
    "            return True\n",
    "    \n",
    "    if node.right is not parent: \n",
    "        if has_cycle(node.right, visited, node):\n",
    "            return True\n",
    "    \n",
    "    return False\n",
    "\n",
    "\n",
    "root = Node(1)\n",
    "root.left = Node(2)\n",
    "root.right = Node(3)\n",
    "root.left.left = Node(4)\n",
    "root.left.right = Node(5)\n",
    "\n",
    "assert not has_cycle(root)\n",
    "\n",
    "root.left.left.right = root\n",
    "\n",
    "assert has_cycle(root)"
   ]
  },
  {
   "cell_type": "markdown",
   "metadata": {},
   "source": [
    "<h3>Task 4<h3>\n",
    "<h4>Write a Task class and a Task manager class<h4>"
   ]
  },
  {
   "cell_type": "code",
   "execution_count": 90,
   "metadata": {},
   "outputs": [],
   "source": [
    "class Task:\n",
    "  def __init__(self, name : str, start : int, end : int):\n",
    "    self.name = name\n",
    "    self.start = start\n",
    "    self.end = end\n",
    "  \n",
    "  def __str__(self):\n",
    "    return \"Class to create a task\"\n",
    "  \n",
    "  def __lt__(self, other): # Overloading built-in func for comparison\n",
    "    return self.start > other.end"
   ]
  },
  {
   "cell_type": "code",
   "execution_count": 122,
   "metadata": {},
   "outputs": [
    {
     "name": "stdout",
     "output_type": "stream",
     "text": [
      "Coding overlaps with Drinking tea\n",
      "Task Drinking tea from 1 to 6\n",
      "Task Chatting with Sofia from 7 to 10\n",
      "Task Escaping from daily routine from 11 to 12\n",
      "Task Debugging from 13 to 14\n",
      "Task Sleeping from 15 to 17\n"
     ]
    }
   ],
   "source": [
    "class TaskManager:\n",
    "  def __init__(self):\n",
    "    self.__tasks = []\n",
    "  \n",
    "  def __str__(self):\n",
    "    return \"This class manages tasks\"\n",
    "  \n",
    "  def check(self, task_1 : object, task_2 : object) -> bool:\n",
    "    return task_1.start < task_2.end and task_1.end > task_2.start\n",
    "  \n",
    "  def empty(self) -> bool:\n",
    "    return len(self.__tasks) < 1\n",
    "  \n",
    "  def put(self, task : object) -> None:\n",
    "    for managed in self.__tasks:\n",
    "      if self.check(task, managed): \n",
    "        print(f\"{task.name} overlaps with {managed.name}\")\n",
    "        return None\n",
    "    \n",
    "    if self.empty():\n",
    "      self.__tasks.append(task)\n",
    "      return None\n",
    "    \n",
    "    for i in range(len(self.__tasks)):\n",
    "      if task < self.__tasks[i]:\n",
    "        self.__tasks.insert(i - 1, task)\n",
    "        return None\n",
    "      \n",
    "      if i == len(self.__tasks) - 1:\n",
    "        self.__tasks.append(task)\n",
    "  \n",
    "  def get(self) -> str:\n",
    "    if self.empty():\n",
    "      raise Exception(\"Task manager is empty\")\n",
    "    \n",
    "    task = self.__tasks.pop(0)\n",
    "    return f\"Task {task.name} from {task.start} to {task.end}\"\n",
    "  \n",
    "  def display(self) -> None:\n",
    "    for j in self.__tasks:\n",
    "      print(f\"Task {j.name} from {j.start} to {j.end}\")\n",
    "\n",
    "\n",
    "manager = TaskManager()\n",
    "\n",
    "task_1 = Task(\"Drinking tea\", 1, 6)\n",
    "task_2 = Task(\"Coding\", 0, 5)\n",
    "task_3 = Task(\"Chatting with Sofia\", 7, 10)\n",
    "task_4 = Task(\"Escaping from daily routine\", 11, 12)\n",
    "task_5 = Task(\"Debugging\", 13, 14)\n",
    "task_6 = Task(\"Sleeping\", 15, 17)\n",
    "\n",
    "manager.put(task_1)\n",
    "manager.put(task_2)\n",
    "manager.put(task_3)\n",
    "manager.put(task_4)\n",
    "manager.put(task_5)\n",
    "manager.put(task_6)\n",
    "\n",
    "manager.display()"
   ]
  }
 ],
 "metadata": {
  "kernelspec": {
   "display_name": "Python 3",
   "language": "python",
   "name": "python3"
  },
  "language_info": {
   "codemirror_mode": {
    "name": "ipython",
    "version": 3
   },
   "file_extension": ".py",
   "mimetype": "text/x-python",
   "name": "python",
   "nbconvert_exporter": "python",
   "pygments_lexer": "ipython3",
   "version": "3.12.8"
  }
 },
 "nbformat": 4,
 "nbformat_minor": 2
}
